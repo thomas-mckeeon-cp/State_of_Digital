{
 "cells": [
  {
   "cell_type": "code",
   "execution_count": 1,
   "id": "9697e5a9",
   "metadata": {},
   "outputs": [],
   "source": [
    "import requests\n",
    "import pandas as pd\n",
    "import numpy as np\n",
    "import requests\n",
    "import bs4\n",
    "import ssl\n",
    "import certifi\n",
    "import time"
   ]
  },
  {
   "cell_type": "code",
   "execution_count": null,
   "id": "cc06a8ee",
   "metadata": {},
   "outputs": [],
   "source": [
    "forbes = pd.read_excel('forbes_1000.xlsx')"
   ]
  },
  {
   "cell_type": "code",
   "execution_count": 32,
   "id": "1985b10e",
   "metadata": {},
   "outputs": [],
   "source": [
    "def grab_top_link(text):\n",
    "    search = 'http://www.google.com/search?q=' + text\n",
    "  \n",
    "    # Fetch the URL data using requests.get(url),\n",
    "    # store it in a variable, request_result.\n",
    "    r = requests.get(search)\n",
    "\n",
    "    soup = bs4.BeautifulSoup(r.text, \"html.parser\")\n",
    "\n",
    "    result_div = soup.find_all('div', attrs = {'class': 'ZINbbc'})\n",
    "\n",
    "    links = []\n",
    "    titles = []\n",
    "    descriptions = []\n",
    "    for r in result_div:\n",
    "        # Checks if each element is present, else, raise exception\n",
    "        try:\n",
    "            link = r.find('a', href = True)\n",
    "            title = r.find('div', attrs={'class':'vvjwJb'}).get_text()\n",
    "            description = r.find('div', attrs={'class':'s3v9rd'}).get_text()\n",
    "\n",
    "            # Check to make sure everything is present before appending\n",
    "            if link != '' and title != '' and description != '': \n",
    "                links.append(link['href'])\n",
    "                titles.append(title)\n",
    "                descriptions.append(description)\n",
    "        # Next loop if one element is not present\n",
    "        except:\n",
    "            continue\n",
    "    import re   \n",
    "\n",
    "    to_remove = []\n",
    "    clean_links = []\n",
    "    for i, l in enumerate(links):\n",
    "        clean = re.search('\\/url\\?q\\=(.*)\\&sa',l)\n",
    "\n",
    "        # Anything that doesn't fit the above pattern will be removed\n",
    "        if clean is None:\n",
    "            to_remove.append(i)\n",
    "            continue\n",
    "        clean_links.append(clean.group(1))\n",
    "\n",
    "    # Remove the corresponding titles & descriptions\n",
    "    for x in to_remove:\n",
    "        del titles[x]\n",
    "        del descriptions[x]\n",
    "        \n",
    "    top_link = clean_links[0]\n",
    "    i = 0\n",
    "    wiki = 0\n",
    "    while 'wikipedia' in top_link or 'history' in top_link:\n",
    "        wiki += 1\n",
    "        i+=1\n",
    "        top_link = clean_links[i]\n",
    "    return [top_link, wiki]"
   ]
  },
  {
   "cell_type": "code",
   "execution_count": 33,
   "id": "de1a3b7b",
   "metadata": {},
   "outputs": [
    {
     "data": {
      "text/plain": [
       "['https://www.aam-us.org/', 0]"
      ]
     },
     "execution_count": 33,
     "metadata": {},
     "output_type": "execute_result"
    }
   ],
   "source": [
    "grab_top_link('aam')"
   ]
  },
  {
   "cell_type": "code",
   "execution_count": null,
   "id": "064cb316",
   "metadata": {},
   "outputs": [],
   "source": [
    "company_good = {}\n",
    "company_bad = []\n",
    "last_req = time.time()\n",
    "for company in forbes.Name:\n",
    "    link = grab_top_link(company)\n",
    "    if link[1] < 0:\n",
    "        company_good[company] = link[1]\n",
    "    else:\n",
    "        company_good[company] = link[0]\n",
    "    \n",
    "    now = time.time()\n",
    "    delay = last_req + 0.900 - now\n",
    "    last_req = now\n",
    "    if delay >= 0:\n",
    "        time.sleep(delay)"
   ]
  },
  {
   "cell_type": "code",
   "execution_count": null,
   "id": "2048468f",
   "metadata": {},
   "outputs": [],
   "source": [
    "company_good"
   ]
  },
  {
   "cell_type": "code",
   "execution_count": null,
   "id": "6448f8fe",
   "metadata": {},
   "outputs": [],
   "source": [
    "company_bad"
   ]
  },
  {
   "cell_type": "code",
   "execution_count": null,
   "id": "13ce9287",
   "metadata": {},
   "outputs": [],
   "source": []
  }
 ],
 "metadata": {
  "kernelspec": {
   "display_name": "Python 3",
   "language": "python",
   "name": "python3"
  },
  "language_info": {
   "codemirror_mode": {
    "name": "ipython",
    "version": 3
   },
   "file_extension": ".py",
   "mimetype": "text/x-python",
   "name": "python",
   "nbconvert_exporter": "python",
   "pygments_lexer": "ipython3",
   "version": "3.8.8"
  }
 },
 "nbformat": 4,
 "nbformat_minor": 5
}
